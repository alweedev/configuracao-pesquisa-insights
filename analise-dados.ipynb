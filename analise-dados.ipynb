{
 "cells": [
  {
   "cell_type": "code",
   "execution_count": null,
   "id": "214accc1",
   "metadata": {},
   "outputs": [],
   "source": [
    "import pandas as pd\n",
    "import seaborn as sns\n",
    "import matplotlib.pyplot as plt\n",
    "\n",
    "# Carregar dados\n",
    "df = pd.read_csv(\"dados-pesquisa-exemplo.csv\")\n",
    "\n",
    "# Exibir as primeiras linhas\n",
    "df.head()\n"
   ]
  },
  {
   "cell_type": "code",
   "execution_count": null,
   "id": "93aa3ebd",
   "metadata": {},
   "outputs": [],
   "source": [
    "# Gráfico: Avaliação média por gênero\n",
    "sns.barplot(data=df, x='Gênero', y='Avaliação do App (1-5)')\n",
    "plt.title('Avaliação Média do App por Gênero')\n",
    "plt.show()\n"
   ]
  },
  {
   "cell_type": "code",
   "execution_count": null,
   "id": "f4b777fb",
   "metadata": {},
   "outputs": [],
   "source": [
    "# Distribuição de idades\n",
    "sns.histplot(df['Idade'], bins=10, kde=True)\n",
    "plt.title('Distribuição de Idade dos Usuários')\n",
    "plt.xlabel('Idade')\n",
    "plt.ylabel('Número de Respostas')\n",
    "plt.show()\n"
   ]
  },
  {
   "cell_type": "code",
   "execution_count": null,
   "id": "50197599",
   "metadata": {},
   "outputs": [],
   "source": [
    "# Melhorias sugeridas\n",
    "df['Melhorias Sugeridas'].value_counts().plot(kind='bar', color='orange')\n",
    "plt.title('Melhorias Mais Sugeridas')\n",
    "plt.ylabel('Quantidade')\n",
    "plt.xticks(rotation=45)\n",
    "plt.show()\n"
   ]
  }
 ],
 "metadata": {},
 "nbformat": 4,
 "nbformat_minor": 5
}
